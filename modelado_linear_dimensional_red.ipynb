{
 "cells": [
  {
   "cell_type": "code",
   "execution_count": 71,
   "metadata": {},
   "outputs": [],
   "source": [
    "import pandas as pd\n",
    "import numpy as np"
   ]
  },
  {
   "cell_type": "code",
   "execution_count": 72,
   "metadata": {},
   "outputs": [
    {
     "data": {
      "text/html": [
       "<div>\n",
       "<style scoped>\n",
       "    .dataframe tbody tr th:only-of-type {\n",
       "        vertical-align: middle;\n",
       "    }\n",
       "\n",
       "    .dataframe tbody tr th {\n",
       "        vertical-align: top;\n",
       "    }\n",
       "\n",
       "    .dataframe thead th {\n",
       "        text-align: right;\n",
       "    }\n",
       "</style>\n",
       "<table border=\"1\" class=\"dataframe\">\n",
       "  <thead>\n",
       "    <tr style=\"text-align: right;\">\n",
       "      <th></th>\n",
       "      <th>fueltype_diesel</th>\n",
       "      <th>aspiration_turbo</th>\n",
       "      <th>doornumber</th>\n",
       "      <th>carbody_convertible</th>\n",
       "      <th>carbody_hardtop</th>\n",
       "      <th>carbody_sedan</th>\n",
       "      <th>drivewheel_rwd</th>\n",
       "      <th>enginelocation_rear</th>\n",
       "      <th>wheelbase</th>\n",
       "      <th>carheight</th>\n",
       "      <th>...</th>\n",
       "      <th>fueltype_gas</th>\n",
       "      <th>aspiration_std</th>\n",
       "      <th>carbody_hatchback</th>\n",
       "      <th>drivewheel_fwd</th>\n",
       "      <th>enginelocation_front</th>\n",
       "      <th>enginetype_ohc</th>\n",
       "      <th>fuelsystem_1bbl</th>\n",
       "      <th>fuelsystem_2bbl</th>\n",
       "      <th>citympg</th>\n",
       "      <th>highwaympg</th>\n",
       "    </tr>\n",
       "  </thead>\n",
       "  <tbody>\n",
       "    <tr>\n",
       "      <th>0</th>\n",
       "      <td>0</td>\n",
       "      <td>0</td>\n",
       "      <td>-1.130388</td>\n",
       "      <td>1</td>\n",
       "      <td>0</td>\n",
       "      <td>0</td>\n",
       "      <td>1</td>\n",
       "      <td>0</td>\n",
       "      <td>-1.690772</td>\n",
       "      <td>-2.020417</td>\n",
       "      <td>...</td>\n",
       "      <td>1</td>\n",
       "      <td>1</td>\n",
       "      <td>0</td>\n",
       "      <td>0</td>\n",
       "      <td>1</td>\n",
       "      <td>0</td>\n",
       "      <td>0</td>\n",
       "      <td>0</td>\n",
       "      <td>0.222222</td>\n",
       "      <td>-0.546059</td>\n",
       "    </tr>\n",
       "    <tr>\n",
       "      <th>1</th>\n",
       "      <td>0</td>\n",
       "      <td>0</td>\n",
       "      <td>-1.130388</td>\n",
       "      <td>1</td>\n",
       "      <td>0</td>\n",
       "      <td>0</td>\n",
       "      <td>1</td>\n",
       "      <td>0</td>\n",
       "      <td>-1.690772</td>\n",
       "      <td>-2.020417</td>\n",
       "      <td>...</td>\n",
       "      <td>1</td>\n",
       "      <td>1</td>\n",
       "      <td>0</td>\n",
       "      <td>0</td>\n",
       "      <td>1</td>\n",
       "      <td>0</td>\n",
       "      <td>0</td>\n",
       "      <td>0</td>\n",
       "      <td>0.222222</td>\n",
       "      <td>-0.546059</td>\n",
       "    </tr>\n",
       "    <tr>\n",
       "      <th>2</th>\n",
       "      <td>0</td>\n",
       "      <td>0</td>\n",
       "      <td>-1.130388</td>\n",
       "      <td>0</td>\n",
       "      <td>0</td>\n",
       "      <td>0</td>\n",
       "      <td>1</td>\n",
       "      <td>0</td>\n",
       "      <td>-0.708596</td>\n",
       "      <td>-0.543527</td>\n",
       "      <td>...</td>\n",
       "      <td>1</td>\n",
       "      <td>1</td>\n",
       "      <td>1</td>\n",
       "      <td>0</td>\n",
       "      <td>1</td>\n",
       "      <td>0</td>\n",
       "      <td>0</td>\n",
       "      <td>0</td>\n",
       "      <td>0.166667</td>\n",
       "      <td>-0.691627</td>\n",
       "    </tr>\n",
       "    <tr>\n",
       "      <th>3</th>\n",
       "      <td>0</td>\n",
       "      <td>0</td>\n",
       "      <td>0.884652</td>\n",
       "      <td>0</td>\n",
       "      <td>0</td>\n",
       "      <td>1</td>\n",
       "      <td>0</td>\n",
       "      <td>0</td>\n",
       "      <td>0.173698</td>\n",
       "      <td>0.235942</td>\n",
       "      <td>...</td>\n",
       "      <td>1</td>\n",
       "      <td>1</td>\n",
       "      <td>0</td>\n",
       "      <td>1</td>\n",
       "      <td>1</td>\n",
       "      <td>1</td>\n",
       "      <td>0</td>\n",
       "      <td>0</td>\n",
       "      <td>0.305556</td>\n",
       "      <td>-0.109354</td>\n",
       "    </tr>\n",
       "    <tr>\n",
       "      <th>4</th>\n",
       "      <td>0</td>\n",
       "      <td>0</td>\n",
       "      <td>0.884652</td>\n",
       "      <td>0</td>\n",
       "      <td>0</td>\n",
       "      <td>1</td>\n",
       "      <td>0</td>\n",
       "      <td>0</td>\n",
       "      <td>0.107110</td>\n",
       "      <td>0.235942</td>\n",
       "      <td>...</td>\n",
       "      <td>1</td>\n",
       "      <td>1</td>\n",
       "      <td>0</td>\n",
       "      <td>0</td>\n",
       "      <td>1</td>\n",
       "      <td>1</td>\n",
       "      <td>0</td>\n",
       "      <td>0</td>\n",
       "      <td>0.138889</td>\n",
       "      <td>-1.273900</td>\n",
       "    </tr>\n",
       "  </tbody>\n",
       "</table>\n",
       "<p>5 rows × 32 columns</p>\n",
       "</div>"
      ],
      "text/plain": [
       "   fueltype_diesel  aspiration_turbo  doornumber  carbody_convertible  \\\n",
       "0                0                 0   -1.130388                    1   \n",
       "1                0                 0   -1.130388                    1   \n",
       "2                0                 0   -1.130388                    0   \n",
       "3                0                 0    0.884652                    0   \n",
       "4                0                 0    0.884652                    0   \n",
       "\n",
       "   carbody_hardtop  carbody_sedan  drivewheel_rwd  enginelocation_rear  \\\n",
       "0                0              0               1                    0   \n",
       "1                0              0               1                    0   \n",
       "2                0              0               1                    0   \n",
       "3                0              1               0                    0   \n",
       "4                0              1               0                    0   \n",
       "\n",
       "   wheelbase  carheight  ...  fueltype_gas  aspiration_std  carbody_hatchback  \\\n",
       "0  -1.690772  -2.020417  ...             1               1                  0   \n",
       "1  -1.690772  -2.020417  ...             1               1                  0   \n",
       "2  -0.708596  -0.543527  ...             1               1                  1   \n",
       "3   0.173698   0.235942  ...             1               1                  0   \n",
       "4   0.107110   0.235942  ...             1               1                  0   \n",
       "\n",
       "   drivewheel_fwd  enginelocation_front  enginetype_ohc  fuelsystem_1bbl  \\\n",
       "0               0                     1               0                0   \n",
       "1               0                     1               0                0   \n",
       "2               0                     1               0                0   \n",
       "3               1                     1               1                0   \n",
       "4               0                     1               1                0   \n",
       "\n",
       "   fuelsystem_2bbl   citympg  highwaympg  \n",
       "0                0  0.222222   -0.546059  \n",
       "1                0  0.222222   -0.546059  \n",
       "2                0  0.166667   -0.691627  \n",
       "3                0  0.305556   -0.109354  \n",
       "4                0  0.138889   -1.273900  \n",
       "\n",
       "[5 rows x 32 columns]"
      ]
     },
     "execution_count": 72,
     "metadata": {},
     "output_type": "execute_result"
    }
   ],
   "source": [
    "# cargo datos y reviso\n",
    "data=pd.read_csv('cars_modelado.csv')\n",
    "data.drop(columns='classification',inplace=True) # price para binarytree\n",
    "data.head()\n"
   ]
  },
  {
   "cell_type": "code",
   "execution_count": 73,
   "metadata": {},
   "outputs": [],
   "source": [
    "# introduzco datos en X e y\n",
    "x=[]\n",
    "for i in data:\n",
    "    if (i!='price'): # price/classification (y)\n",
    "        x.append(np.array(data[i]).reshape(-1,1))\n",
    "\n",
    "X=np.hstack(x)\n",
    "y=np.array(data.price).reshape(-1,1) # price/classification(y)"
   ]
  },
  {
   "cell_type": "code",
   "execution_count": 74,
   "metadata": {},
   "outputs": [
    {
     "data": {
      "text/plain": [
       "'from sklearn import decomposition\\n\\npca = decomposition.PCA(n_components=15)\\n\\nX = pca.fit_transform(X)'"
      ]
     },
     "execution_count": 74,
     "metadata": {},
     "output_type": "execute_result"
    }
   ],
   "source": [
    "# estos datos estan escalados en la ingesta, procedo a reducir dimensionalidad\n",
    "'''from sklearn import decomposition\n",
    "\n",
    "pca = decomposition.PCA(n_components=15)\n",
    "\n",
    "X = pca.fit_transform(X)'''"
   ]
  },
  {
   "cell_type": "code",
   "execution_count": 75,
   "metadata": {},
   "outputs": [],
   "source": [
    "# probar el modelo de regresion linear\n",
    "from sklearn.linear_model import LinearRegression\n",
    "from sklearn.model_selection import GridSearchCV\n",
    "\n",
    "regresion_autos = LinearRegression()\n",
    "\n",
    "autos_params = {'fit_intercept':[True,False],\n",
    "                'copy_X':[True,False],\n",
    "                }\n",
    "\n",
    "\n",
    "modelo_autos = GridSearchCV(regresion_autos,param_grid=autos_params,cv=5)\n",
    "\n",
    "modelo_autos.fit(X,y)\n",
    "\n",
    "Y_Pred = modelo_autos.predict(X)"
   ]
  },
  {
   "cell_type": "code",
   "execution_count": 76,
   "metadata": {},
   "outputs": [
    {
     "data": {
      "text/plain": [
       "{'copy_X': True, 'fit_intercept': True}"
      ]
     },
     "execution_count": 76,
     "metadata": {},
     "output_type": "execute_result"
    }
   ],
   "source": [
    "modelo_autos.best_params_"
   ]
  },
  {
   "cell_type": "code",
   "execution_count": 77,
   "metadata": {},
   "outputs": [
    {
     "name": "stdout",
     "output_type": "stream",
     "text": [
      "score con GridSearch 0.9051577709683206\n",
      "mean squared error 0.021881690965643918\n",
      "r2 score 0.8952179912609834\n"
     ]
    }
   ],
   "source": [
    "from sklearn.metrics import mean_squared_error,r2_score\n",
    "print('score con GridSearch',modelo_autos.score(X,y))\n",
    "print('mean squared error',mean_squared_error(Y_Pred,y))\n",
    "print('r2 score',r2_score(Y_Pred,y))"
   ]
  },
  {
   "cell_type": "code",
   "execution_count": 78,
   "metadata": {},
   "outputs": [],
   "source": [
    "# el usar reduccion de dimensionalidad, en este caso, disminuye los scores obtenidos"
   ]
  }
 ],
 "metadata": {
  "kernelspec": {
   "display_name": "Python 3",
   "language": "python",
   "name": "python3"
  },
  "language_info": {
   "codemirror_mode": {
    "name": "ipython",
    "version": 3
   },
   "file_extension": ".py",
   "mimetype": "text/x-python",
   "name": "python",
   "nbconvert_exporter": "python",
   "pygments_lexer": "ipython3",
   "version": "3.10.6"
  },
  "orig_nbformat": 4
 },
 "nbformat": 4,
 "nbformat_minor": 2
}
